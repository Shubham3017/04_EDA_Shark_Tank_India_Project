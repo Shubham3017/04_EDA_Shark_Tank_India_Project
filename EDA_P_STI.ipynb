{
 "cells": [
  {
   "cell_type": "markdown",
   "id": "9464ae19",
   "metadata": {},
   "source": [
    "# EDA Project Shark Tank India"
   ]
  },
  {
   "cell_type": "code",
   "execution_count": 1,
   "id": "ff7c374e",
   "metadata": {},
   "outputs": [],
   "source": [
    "import pandas as pd\n",
    "import numpy as np\n",
    "import seaborn as sns\n",
    "import matplotlib.pyplot as plt"
   ]
  },
  {
   "cell_type": "code",
   "execution_count": 2,
   "id": "93ddc9c2",
   "metadata": {},
   "outputs": [],
   "source": [
    "df=pd.read_excel(\"C:/Users/SHUBHAM\\OneDrive/Documents/EDA_Shark_Tank_India.xlsx\")"
   ]
  },
  {
   "cell_type": "markdown",
   "id": "42c9262c",
   "metadata": {},
   "source": [
    "# 1. Total number of episodes"
   ]
  },
  {
   "cell_type": "code",
   "execution_count": 3,
   "id": "15d3075d",
   "metadata": {},
   "outputs": [
    {
     "name": "stdout",
     "output_type": "stream",
     "text": [
      "The total no of episodes are 35\n"
     ]
    }
   ],
   "source": [
    "q=df['episode_number'].unique()\n",
    "print('The total no of episodes are',len(q))"
   ]
  },
  {
   "cell_type": "markdown",
   "id": "4decfdc1",
   "metadata": {},
   "source": [
    "# 2. Max, min , mean of asked amount,asked equity, asked valuation"
   ]
  },
  {
   "cell_type": "code",
   "execution_count": 8,
   "id": "3320ebf7",
   "metadata": {},
   "outputs": [
    {
     "data": {
      "text/html": [
       "<div>\n",
       "<style scoped>\n",
       "    .dataframe tbody tr th:only-of-type {\n",
       "        vertical-align: middle;\n",
       "    }\n",
       "\n",
       "    .dataframe tbody tr th {\n",
       "        vertical-align: top;\n",
       "    }\n",
       "\n",
       "    .dataframe thead th {\n",
       "        text-align: right;\n",
       "    }\n",
       "</style>\n",
       "<table border=\"1\" class=\"dataframe\">\n",
       "  <thead>\n",
       "    <tr style=\"text-align: right;\">\n",
       "      <th></th>\n",
       "      <th>pitcher_ask_amount</th>\n",
       "      <th>ask_equity</th>\n",
       "      <th>ask_valuation</th>\n",
       "    </tr>\n",
       "  </thead>\n",
       "  <tbody>\n",
       "    <tr>\n",
       "      <th>max</th>\n",
       "      <td>30000.000000</td>\n",
       "      <td>25.000000</td>\n",
       "      <td>120000.000000</td>\n",
       "    </tr>\n",
       "    <tr>\n",
       "      <th>min</th>\n",
       "      <td>0.001010</td>\n",
       "      <td>0.250000</td>\n",
       "      <td>0.010000</td>\n",
       "    </tr>\n",
       "    <tr>\n",
       "      <th>mean</th>\n",
       "      <td>319.854709</td>\n",
       "      <td>5.188034</td>\n",
       "      <td>3852.462479</td>\n",
       "    </tr>\n",
       "  </tbody>\n",
       "</table>\n",
       "</div>"
      ],
      "text/plain": [
       "      pitcher_ask_amount  ask_equity  ask_valuation\n",
       "max         30000.000000   25.000000  120000.000000\n",
       "min             0.001010    0.250000       0.010000\n",
       "mean          319.854709    5.188034    3852.462479"
      ]
     },
     "execution_count": 8,
     "metadata": {},
     "output_type": "execute_result"
    }
   ],
   "source": [
    "df[['pitcher_ask_amount','ask_equity','ask_valuation']].agg(['max','min','mean'])\n"
   ]
  },
  {
   "cell_type": "markdown",
   "id": "015125de",
   "metadata": {},
   "source": [
    "# 3. Max & Min asked- equity,asked-valuation and asked amount episode-wise"
   ]
  },
  {
   "cell_type": "code",
   "execution_count": 9,
   "id": "52afea25",
   "metadata": {},
   "outputs": [
    {
     "name": "stdout",
     "output_type": "stream",
     "text": [
      "*MAXIMUM OF ASKED EPISODEWISE*\n"
     ]
    },
    {
     "data": {
      "text/html": [
       "<style type=\"text/css\">\n",
       "#T_1c0b5_row0_col0, #T_1c0b5_row1_col0, #T_1c0b5_row2_col0, #T_1c0b5_row2_col2, #T_1c0b5_row2_col3, #T_1c0b5_row3_col0, #T_1c0b5_row4_col0, #T_1c0b5_row5_col0, #T_1c0b5_row6_col0, #T_1c0b5_row7_col0, #T_1c0b5_row8_col0, #T_1c0b5_row9_col0, #T_1c0b5_row11_col0, #T_1c0b5_row12_col0, #T_1c0b5_row13_col0, #T_1c0b5_row14_col0, #T_1c0b5_row15_col0, #T_1c0b5_row17_col0, #T_1c0b5_row17_col2, #T_1c0b5_row18_col0, #T_1c0b5_row19_col0, #T_1c0b5_row20_col0, #T_1c0b5_row21_col0, #T_1c0b5_row22_col0, #T_1c0b5_row23_col0, #T_1c0b5_row23_col4, #T_1c0b5_row24_col2, #T_1c0b5_row25_col0, #T_1c0b5_row26_col0, #T_1c0b5_row26_col1, #T_1c0b5_row26_col5, #T_1c0b5_row27_col0, #T_1c0b5_row28_col0, #T_1c0b5_row30_col0, #T_1c0b5_row32_col0, #T_1c0b5_row33_col0, #T_1c0b5_row34_col0 {\n",
       "  background-color: #e4ff7a;\n",
       "  color: #000000;\n",
       "}\n",
       "#T_1c0b5_row0_col1, #T_1c0b5_row9_col1 {\n",
       "  background-color: #ffda11;\n",
       "  color: #000000;\n",
       "}\n",
       "#T_1c0b5_row0_col2, #T_1c0b5_row29_col2 {\n",
       "  background-color: #ffba00;\n",
       "  color: #000000;\n",
       "}\n",
       "#T_1c0b5_row0_col3, #T_1c0b5_row10_col3, #T_1c0b5_row20_col3 {\n",
       "  background-color: #ffb000;\n",
       "  color: #000000;\n",
       "}\n",
       "#T_1c0b5_row0_col4, #T_1c0b5_row14_col4, #T_1c0b5_row16_col0, #T_1c0b5_row20_col4, #T_1c0b5_row24_col0, #T_1c0b5_row31_col0 {\n",
       "  background-color: #e4ff78;\n",
       "  color: #000000;\n",
       "}\n",
       "#T_1c0b5_row0_col5, #T_1c0b5_row4_col1 {\n",
       "  background-color: #f2f347;\n",
       "  color: #000000;\n",
       "}\n",
       "#T_1c0b5_row1_col1, #T_1c0b5_row2_col1, #T_1c0b5_row3_col1, #T_1c0b5_row6_col1, #T_1c0b5_row8_col1, #T_1c0b5_row16_col1, #T_1c0b5_row17_col1, #T_1c0b5_row17_col5, #T_1c0b5_row21_col1, #T_1c0b5_row24_col1, #T_1c0b5_row24_col5, #T_1c0b5_row25_col1, #T_1c0b5_row27_col1, #T_1c0b5_row29_col1, #T_1c0b5_row30_col1 {\n",
       "  background-color: #ffaa00;\n",
       "  color: #000000;\n",
       "}\n",
       "#T_1c0b5_row1_col2, #T_1c0b5_row8_col2, #T_1c0b5_row9_col2, #T_1c0b5_row11_col2, #T_1c0b5_row13_col2, #T_1c0b5_row14_col2, #T_1c0b5_row19_col2, #T_1c0b5_row21_col2, #T_1c0b5_row22_col2, #T_1c0b5_row25_col4, #T_1c0b5_row27_col2, #T_1c0b5_row28_col2 {\n",
       "  background-color: #e9fb68;\n",
       "  color: #000000;\n",
       "}\n",
       "#T_1c0b5_row1_col3, #T_1c0b5_row4_col3, #T_1c0b5_row5_col3, #T_1c0b5_row6_col3, #T_1c0b5_row17_col3, #T_1c0b5_row22_col3, #T_1c0b5_row25_col3, #T_1c0b5_row26_col3, #T_1c0b5_row29_col3, #T_1c0b5_row31_col3, #T_1c0b5_row32_col3, #T_1c0b5_row33_col3 {\n",
       "  background-color: #eef656;\n",
       "  color: #000000;\n",
       "}\n",
       "#T_1c0b5_row1_col4, #T_1c0b5_row14_col5 {\n",
       "  background-color: #eafa66;\n",
       "  color: #000000;\n",
       "}\n",
       "#T_1c0b5_row1_col5, #T_1c0b5_row8_col5, #T_1c0b5_row11_col1, #T_1c0b5_row27_col5, #T_1c0b5_row34_col1 {\n",
       "  background-color: #ffb900;\n",
       "  color: #000000;\n",
       "}\n",
       "#T_1c0b5_row2_col4 {\n",
       "  background-color: #ffda12;\n",
       "  color: #000000;\n",
       "}\n",
       "#T_1c0b5_row2_col5, #T_1c0b5_row10_col0, #T_1c0b5_row10_col2, #T_1c0b5_row10_col4, #T_1c0b5_row23_col3, #T_1c0b5_row28_col1 {\n",
       "  background-color: #fc7f00;\n",
       "  color: #f1f1f1;\n",
       "}\n",
       "#T_1c0b5_row3_col2, #T_1c0b5_row5_col2, #T_1c0b5_row12_col2, #T_1c0b5_row16_col2, #T_1c0b5_row20_col2, #T_1c0b5_row23_col2, #T_1c0b5_row25_col2, #T_1c0b5_row26_col2, #T_1c0b5_row30_col2, #T_1c0b5_row32_col2, #T_1c0b5_row33_col2 {\n",
       "  background-color: #ffe216;\n",
       "  color: #000000;\n",
       "}\n",
       "#T_1c0b5_row3_col3, #T_1c0b5_row27_col3 {\n",
       "  background-color: #ffc002;\n",
       "  color: #000000;\n",
       "}\n",
       "#T_1c0b5_row3_col4, #T_1c0b5_row9_col4, #T_1c0b5_row11_col4, #T_1c0b5_row27_col4, #T_1c0b5_row29_col0 {\n",
       "  background-color: #e5fe77;\n",
       "  color: #000000;\n",
       "}\n",
       "#T_1c0b5_row3_col5, #T_1c0b5_row5_col5, #T_1c0b5_row9_col5, #T_1c0b5_row12_col5, #T_1c0b5_row16_col5, #T_1c0b5_row23_col1, #T_1c0b5_row25_col5, #T_1c0b5_row29_col5, #T_1c0b5_row30_col5, #T_1c0b5_row34_col5 {\n",
       "  background-color: #ffe518;\n",
       "  color: #000000;\n",
       "}\n",
       "#T_1c0b5_row4_col2 {\n",
       "  background-color: #ff9e00;\n",
       "  color: #000000;\n",
       "}\n",
       "#T_1c0b5_row4_col4, #T_1c0b5_row5_col4, #T_1c0b5_row17_col4, #T_1c0b5_row18_col4, #T_1c0b5_row22_col4, #T_1c0b5_row26_col4, #T_1c0b5_row33_col4 {\n",
       "  background-color: #ecf85c;\n",
       "  color: #000000;\n",
       "}\n",
       "#T_1c0b5_row4_col5, #T_1c0b5_row13_col4, #T_1c0b5_row30_col4, #T_1c0b5_row32_col4 {\n",
       "  background-color: #e7fd71;\n",
       "  color: #000000;\n",
       "}\n",
       "#T_1c0b5_row5_col1, #T_1c0b5_row13_col1, #T_1c0b5_row15_col1 {\n",
       "  background-color: #ffb100;\n",
       "  color: #000000;\n",
       "}\n",
       "#T_1c0b5_row6_col2, #T_1c0b5_row7_col2 {\n",
       "  background-color: #f6f03b;\n",
       "  color: #000000;\n",
       "}\n",
       "#T_1c0b5_row6_col4, #T_1c0b5_row24_col4 {\n",
       "  background-color: #eafa65;\n",
       "  color: #000000;\n",
       "}\n",
       "#T_1c0b5_row6_col5, #T_1c0b5_row11_col3, #T_1c0b5_row13_col3, #T_1c0b5_row14_col3, #T_1c0b5_row16_col3, #T_1c0b5_row28_col3 {\n",
       "  background-color: #ffd60f;\n",
       "  color: #000000;\n",
       "}\n",
       "#T_1c0b5_row7_col1, #T_1c0b5_row10_col1, #T_1c0b5_row12_col1, #T_1c0b5_row22_col1, #T_1c0b5_row33_col1 {\n",
       "  background-color: #ffce0a;\n",
       "  color: #000000;\n",
       "}\n",
       "#T_1c0b5_row7_col3, #T_1c0b5_row8_col3, #T_1c0b5_row34_col3 {\n",
       "  background-color: #ffe116;\n",
       "  color: #000000;\n",
       "}\n",
       "#T_1c0b5_row7_col4, #T_1c0b5_row8_col4, #T_1c0b5_row15_col4 {\n",
       "  background-color: #e5fe75;\n",
       "  color: #000000;\n",
       "}\n",
       "#T_1c0b5_row7_col5 {\n",
       "  background-color: #ffcf0b;\n",
       "  color: #000000;\n",
       "}\n",
       "#T_1c0b5_row9_col3, #T_1c0b5_row12_col3, #T_1c0b5_row15_col3, #T_1c0b5_row19_col3, #T_1c0b5_row21_col3, #T_1c0b5_row24_col3, #T_1c0b5_row30_col3 {\n",
       "  background-color: #fcea24;\n",
       "  color: #000000;\n",
       "}\n",
       "#T_1c0b5_row10_col5, #T_1c0b5_row18_col5 {\n",
       "  background-color: #f5f13e;\n",
       "  color: #000000;\n",
       "}\n",
       "#T_1c0b5_row11_col5 {\n",
       "  background-color: #ffc908;\n",
       "  color: #000000;\n",
       "}\n",
       "#T_1c0b5_row12_col4 {\n",
       "  background-color: #e6fe74;\n",
       "  color: #000000;\n",
       "}\n",
       "#T_1c0b5_row13_col5 {\n",
       "  background-color: #ffc102;\n",
       "  color: #000000;\n",
       "}\n",
       "#T_1c0b5_row14_col1 {\n",
       "  background-color: #ebf960;\n",
       "  color: #000000;\n",
       "}\n",
       "#T_1c0b5_row15_col2, #T_1c0b5_row31_col2 {\n",
       "  background-color: #f3f244;\n",
       "  color: #000000;\n",
       "}\n",
       "#T_1c0b5_row15_col5 {\n",
       "  background-color: #ffb500;\n",
       "  color: #000000;\n",
       "}\n",
       "#T_1c0b5_row16_col4, #T_1c0b5_row31_col4 {\n",
       "  background-color: #e8fc6c;\n",
       "  color: #000000;\n",
       "}\n",
       "#T_1c0b5_row18_col1 {\n",
       "  background-color: #faed2d;\n",
       "  color: #000000;\n",
       "}\n",
       "#T_1c0b5_row18_col2, #T_1c0b5_row34_col2 {\n",
       "  background-color: #f8ee32;\n",
       "  color: #000000;\n",
       "}\n",
       "#T_1c0b5_row18_col3 {\n",
       "  background-color: #f2f348;\n",
       "  color: #000000;\n",
       "}\n",
       "#T_1c0b5_row19_col1, #T_1c0b5_row20_col1, #T_1c0b5_row31_col1, #T_1c0b5_row32_col1 {\n",
       "  background-color: #ffc303;\n",
       "  color: #000000;\n",
       "}\n",
       "#T_1c0b5_row19_col4, #T_1c0b5_row21_col4, #T_1c0b5_row28_col4 {\n",
       "  background-color: #e6fd72;\n",
       "  color: #000000;\n",
       "}\n",
       "#T_1c0b5_row19_col5 {\n",
       "  background-color: #ffd30d;\n",
       "  color: #000000;\n",
       "}\n",
       "#T_1c0b5_row20_col5 {\n",
       "  background-color: #ffe81a;\n",
       "  color: #000000;\n",
       "}\n",
       "#T_1c0b5_row21_col5, #T_1c0b5_row28_col5 {\n",
       "  background-color: #fe9900;\n",
       "  color: #000000;\n",
       "}\n",
       "#T_1c0b5_row22_col5 {\n",
       "  background-color: #ffdc13;\n",
       "  color: #000000;\n",
       "}\n",
       "#T_1c0b5_row23_col5 {\n",
       "  background-color: #eff551;\n",
       "  color: #000000;\n",
       "}\n",
       "#T_1c0b5_row29_col4 {\n",
       "  background-color: #ffe81b;\n",
       "  color: #000000;\n",
       "}\n",
       "#T_1c0b5_row31_col5 {\n",
       "  background-color: #ffde14;\n",
       "  color: #000000;\n",
       "}\n",
       "#T_1c0b5_row32_col5, #T_1c0b5_row33_col5 {\n",
       "  background-color: #fbec29;\n",
       "  color: #000000;\n",
       "}\n",
       "#T_1c0b5_row34_col4 {\n",
       "  background-color: #e7fc6f;\n",
       "  color: #000000;\n",
       "}\n",
       "</style>\n",
       "<table id=\"T_1c0b5\">\n",
       "  <thead>\n",
       "    <tr>\n",
       "      <th class=\"blank level0\" >&nbsp;</th>\n",
       "      <th id=\"T_1c0b5_level0_col0\" class=\"col_heading level0 col0\" colspan=\"2\">pitcher_ask_amount</th>\n",
       "      <th id=\"T_1c0b5_level0_col2\" class=\"col_heading level0 col2\" colspan=\"2\">ask_equity</th>\n",
       "      <th id=\"T_1c0b5_level0_col4\" class=\"col_heading level0 col4\" colspan=\"2\">ask_valuation</th>\n",
       "    </tr>\n",
       "    <tr>\n",
       "      <th class=\"blank level1\" >&nbsp;</th>\n",
       "      <th id=\"T_1c0b5_level1_col0\" class=\"col_heading level1 col0\" >max</th>\n",
       "      <th id=\"T_1c0b5_level1_col1\" class=\"col_heading level1 col1\" >min</th>\n",
       "      <th id=\"T_1c0b5_level1_col2\" class=\"col_heading level1 col2\" >max</th>\n",
       "      <th id=\"T_1c0b5_level1_col3\" class=\"col_heading level1 col3\" >min</th>\n",
       "      <th id=\"T_1c0b5_level1_col4\" class=\"col_heading level1 col4\" >max</th>\n",
       "      <th id=\"T_1c0b5_level1_col5\" class=\"col_heading level1 col5\" >min</th>\n",
       "    </tr>\n",
       "    <tr>\n",
       "      <th class=\"index_name level0\" >episode_number</th>\n",
       "      <th class=\"blank col0\" >&nbsp;</th>\n",
       "      <th class=\"blank col1\" >&nbsp;</th>\n",
       "      <th class=\"blank col2\" >&nbsp;</th>\n",
       "      <th class=\"blank col3\" >&nbsp;</th>\n",
       "      <th class=\"blank col4\" >&nbsp;</th>\n",
       "      <th class=\"blank col5\" >&nbsp;</th>\n",
       "    </tr>\n",
       "  </thead>\n",
       "  <tbody>\n",
       "    <tr>\n",
       "      <th id=\"T_1c0b5_level0_row0\" class=\"row_heading level0 row0\" >1</th>\n",
       "      <td id=\"T_1c0b5_row0_col0\" class=\"data row0 col0\" >50.000000</td>\n",
       "      <td id=\"T_1c0b5_row0_col1\" class=\"data row0 col1\" >25.000000</td>\n",
       "      <td id=\"T_1c0b5_row0_col2\" class=\"data row0 col2\" >15.000000</td>\n",
       "      <td id=\"T_1c0b5_row0_col3\" class=\"data row0 col3\" >5.000000</td>\n",
       "      <td id=\"T_1c0b5_row0_col4\" class=\"data row0 col4\" >1000.000000</td>\n",
       "      <td id=\"T_1c0b5_row0_col5\" class=\"data row0 col5\" >250.000000</td>\n",
       "    </tr>\n",
       "    <tr>\n",
       "      <th id=\"T_1c0b5_level0_row1\" class=\"row_heading level0 row1\" >2</th>\n",
       "      <td id=\"T_1c0b5_row1_col0\" class=\"data row1 col0\" >70.000000</td>\n",
       "      <td id=\"T_1c0b5_row1_col1\" class=\"data row1 col1\" >50.000000</td>\n",
       "      <td id=\"T_1c0b5_row1_col2\" class=\"data row1 col2\" >5.000000</td>\n",
       "      <td id=\"T_1c0b5_row1_col3\" class=\"data row1 col3\" >1.000000</td>\n",
       "      <td id=\"T_1c0b5_row1_col4\" class=\"data row1 col4\" >7000.000000</td>\n",
       "      <td id=\"T_1c0b5_row1_col5\" class=\"data row1 col5\" >1000.000000</td>\n",
       "    </tr>\n",
       "    <tr>\n",
       "      <th id=\"T_1c0b5_level0_row2\" class=\"row_heading level0 row2\" >3</th>\n",
       "      <td id=\"T_1c0b5_row2_col0\" class=\"data row2 col0\" >100.000000</td>\n",
       "      <td id=\"T_1c0b5_row2_col1\" class=\"data row2 col1\" >50.000000</td>\n",
       "      <td id=\"T_1c0b5_row2_col2\" class=\"data row2 col2\" >4.000000</td>\n",
       "      <td id=\"T_1c0b5_row2_col3\" class=\"data row2 col3\" >0.250000</td>\n",
       "      <td id=\"T_1c0b5_row2_col4\" class=\"data row2 col4\" >40000.000000</td>\n",
       "      <td id=\"T_1c0b5_row2_col5\" class=\"data row2 col5\" >1875.000000</td>\n",
       "    </tr>\n",
       "    <tr>\n",
       "      <th id=\"T_1c0b5_level0_row3\" class=\"row_heading level0 row3\" >4</th>\n",
       "      <td id=\"T_1c0b5_row3_col0\" class=\"data row3 col0\" >75.000000</td>\n",
       "      <td id=\"T_1c0b5_row3_col1\" class=\"data row3 col1\" >50.000000</td>\n",
       "      <td id=\"T_1c0b5_row3_col2\" class=\"data row3 col2\" >10.000000</td>\n",
       "      <td id=\"T_1c0b5_row3_col3\" class=\"data row3 col3\" >4.000000</td>\n",
       "      <td id=\"T_1c0b5_row3_col4\" class=\"data row3 col4\" >1875.000000</td>\n",
       "      <td id=\"T_1c0b5_row3_col5\" class=\"data row3 col5\" >500.000000</td>\n",
       "    </tr>\n",
       "    <tr>\n",
       "      <th id=\"T_1c0b5_level0_row4\" class=\"row_heading level0 row4\" >5</th>\n",
       "      <td id=\"T_1c0b5_row4_col0\" class=\"data row4 col0\" >100.000000</td>\n",
       "      <td id=\"T_1c0b5_row4_col1\" class=\"data row4 col1\" >10.000000</td>\n",
       "      <td id=\"T_1c0b5_row4_col2\" class=\"data row4 col2\" >20.000000</td>\n",
       "      <td id=\"T_1c0b5_row4_col3\" class=\"data row4 col3\" >1.000000</td>\n",
       "      <td id=\"T_1c0b5_row4_col4\" class=\"data row4 col4\" >10000.000000</td>\n",
       "      <td id=\"T_1c0b5_row4_col5\" class=\"data row4 col5\" >50.000000</td>\n",
       "    </tr>\n",
       "    <tr>\n",
       "      <th id=\"T_1c0b5_level0_row5\" class=\"row_heading level0 row5\" >6</th>\n",
       "      <td id=\"T_1c0b5_row5_col0\" class=\"data row5 col0\" >100.000000</td>\n",
       "      <td id=\"T_1c0b5_row5_col1\" class=\"data row5 col1\" >45.000000</td>\n",
       "      <td id=\"T_1c0b5_row5_col2\" class=\"data row5 col2\" >10.000000</td>\n",
       "      <td id=\"T_1c0b5_row5_col3\" class=\"data row5 col3\" >1.000000</td>\n",
       "      <td id=\"T_1c0b5_row5_col4\" class=\"data row5 col4\" >10000.000000</td>\n",
       "      <td id=\"T_1c0b5_row5_col5\" class=\"data row5 col5\" >500.000000</td>\n",
       "    </tr>\n",
       "    <tr>\n",
       "      <th id=\"T_1c0b5_level0_row6\" class=\"row_heading level0 row6\" >7</th>\n",
       "      <td id=\"T_1c0b5_row6_col0\" class=\"data row6 col0\" >100.000000</td>\n",
       "      <td id=\"T_1c0b5_row6_col1\" class=\"data row6 col1\" >50.000000</td>\n",
       "      <td id=\"T_1c0b5_row6_col2\" class=\"data row6 col2\" >7.500000</td>\n",
       "      <td id=\"T_1c0b5_row6_col3\" class=\"data row6 col3\" >1.000000</td>\n",
       "      <td id=\"T_1c0b5_row6_col4\" class=\"data row6 col4\" >7500.000000</td>\n",
       "      <td id=\"T_1c0b5_row6_col5\" class=\"data row6 col5\" >666.670000</td>\n",
       "    </tr>\n",
       "    <tr>\n",
       "      <th id=\"T_1c0b5_level0_row7\" class=\"row_heading level0 row7\" >8</th>\n",
       "      <td id=\"T_1c0b5_row7_col0\" class=\"data row7 col0\" >56.000000</td>\n",
       "      <td id=\"T_1c0b5_row7_col1\" class=\"data row7 col1\" >30.000000</td>\n",
       "      <td id=\"T_1c0b5_row7_col2\" class=\"data row7 col2\" >7.500000</td>\n",
       "      <td id=\"T_1c0b5_row7_col3\" class=\"data row7 col3\" >2.500000</td>\n",
       "      <td id=\"T_1c0b5_row7_col4\" class=\"data row7 col4\" >2000.000000</td>\n",
       "      <td id=\"T_1c0b5_row7_col5\" class=\"data row7 col5\" >746.670000</td>\n",
       "    </tr>\n",
       "    <tr>\n",
       "      <th id=\"T_1c0b5_level0_row8\" class=\"row_heading level0 row8\" >9</th>\n",
       "      <td id=\"T_1c0b5_row8_col0\" class=\"data row8 col0\" >100.000000</td>\n",
       "      <td id=\"T_1c0b5_row8_col1\" class=\"data row8 col1\" >50.000000</td>\n",
       "      <td id=\"T_1c0b5_row8_col2\" class=\"data row8 col2\" >5.000000</td>\n",
       "      <td id=\"T_1c0b5_row8_col3\" class=\"data row8 col3\" >2.500000</td>\n",
       "      <td id=\"T_1c0b5_row8_col4\" class=\"data row8 col4\" >2000.000000</td>\n",
       "      <td id=\"T_1c0b5_row8_col5\" class=\"data row8 col5\" >1000.000000</td>\n",
       "    </tr>\n",
       "    <tr>\n",
       "      <th id=\"T_1c0b5_level0_row9\" class=\"row_heading level0 row9\" >10</th>\n",
       "      <td id=\"T_1c0b5_row9_col0\" class=\"data row9 col0\" >30.000000</td>\n",
       "      <td id=\"T_1c0b5_row9_col1\" class=\"data row9 col1\" >25.000000</td>\n",
       "      <td id=\"T_1c0b5_row9_col2\" class=\"data row9 col2\" >5.000000</td>\n",
       "      <td id=\"T_1c0b5_row9_col3\" class=\"data row9 col3\" >2.000000</td>\n",
       "      <td id=\"T_1c0b5_row9_col4\" class=\"data row9 col4\" >1500.000000</td>\n",
       "      <td id=\"T_1c0b5_row9_col5\" class=\"data row9 col5\" >500.000000</td>\n",
       "    </tr>\n",
       "    <tr>\n",
       "      <th id=\"T_1c0b5_level0_row10\" class=\"row_heading level0 row10\" >11</th>\n",
       "      <td id=\"T_1c0b5_row10_col0\" class=\"data row10 col0\" >30000.000000</td>\n",
       "      <td id=\"T_1c0b5_row10_col1\" class=\"data row10 col1\" >30.000000</td>\n",
       "      <td id=\"T_1c0b5_row10_col2\" class=\"data row10 col2\" >25.000000</td>\n",
       "      <td id=\"T_1c0b5_row10_col3\" class=\"data row10 col3\" >5.000000</td>\n",
       "      <td id=\"T_1c0b5_row10_col4\" class=\"data row10 col4\" >120000.000000</td>\n",
       "      <td id=\"T_1c0b5_row10_col5\" class=\"data row10 col5\" >300.000000</td>\n",
       "    </tr>\n",
       "    <tr>\n",
       "      <th id=\"T_1c0b5_level0_row11\" class=\"row_heading level0 row11\" >12</th>\n",
       "      <td id=\"T_1c0b5_row11_col0\" class=\"data row11 col0\" >75.000000</td>\n",
       "      <td id=\"T_1c0b5_row11_col1\" class=\"data row11 col1\" >40.000000</td>\n",
       "      <td id=\"T_1c0b5_row11_col2\" class=\"data row11 col2\" >5.000000</td>\n",
       "      <td id=\"T_1c0b5_row11_col3\" class=\"data row11 col3\" >3.000000</td>\n",
       "      <td id=\"T_1c0b5_row11_col4\" class=\"data row11 col4\" >1875.000000</td>\n",
       "      <td id=\"T_1c0b5_row11_col5\" class=\"data row11 col5\" >800.000000</td>\n",
       "    </tr>\n",
       "    <tr>\n",
       "      <th id=\"T_1c0b5_level0_row12\" class=\"row_heading level0 row12\" >13</th>\n",
       "      <td id=\"T_1c0b5_row12_col0\" class=\"data row12 col0\" >50.000000</td>\n",
       "      <td id=\"T_1c0b5_row12_col1\" class=\"data row12 col1\" >30.000000</td>\n",
       "      <td id=\"T_1c0b5_row12_col2\" class=\"data row12 col2\" >10.000000</td>\n",
       "      <td id=\"T_1c0b5_row12_col3\" class=\"data row12 col3\" >2.000000</td>\n",
       "      <td id=\"T_1c0b5_row12_col4\" class=\"data row12 col4\" >2500.000000</td>\n",
       "      <td id=\"T_1c0b5_row12_col5\" class=\"data row12 col5\" >500.000000</td>\n",
       "    </tr>\n",
       "    <tr>\n",
       "      <th id=\"T_1c0b5_level0_row13\" class=\"row_heading level0 row13\" >14</th>\n",
       "      <td id=\"T_1c0b5_row13_col0\" class=\"data row13 col0\" >100.000000</td>\n",
       "      <td id=\"T_1c0b5_row13_col1\" class=\"data row13 col1\" >45.000000</td>\n",
       "      <td id=\"T_1c0b5_row13_col2\" class=\"data row13 col2\" >5.000000</td>\n",
       "      <td id=\"T_1c0b5_row13_col3\" class=\"data row13 col3\" >3.000000</td>\n",
       "      <td id=\"T_1c0b5_row13_col4\" class=\"data row13 col4\" >3333.330000</td>\n",
       "      <td id=\"T_1c0b5_row13_col5\" class=\"data row13 col5\" >900.000000</td>\n",
       "    </tr>\n",
       "    <tr>\n",
       "      <th id=\"T_1c0b5_level0_row14\" class=\"row_heading level0 row14\" >15</th>\n",
       "      <td id=\"T_1c0b5_row14_col0\" class=\"data row14 col0\" >50.000000</td>\n",
       "      <td id=\"T_1c0b5_row14_col1\" class=\"data row14 col1\" >5.000000</td>\n",
       "      <td id=\"T_1c0b5_row14_col2\" class=\"data row14 col2\" >5.000000</td>\n",
       "      <td id=\"T_1c0b5_row14_col3\" class=\"data row14 col3\" >3.000000</td>\n",
       "      <td id=\"T_1c0b5_row14_col4\" class=\"data row14 col4\" >1250.000000</td>\n",
       "      <td id=\"T_1c0b5_row14_col5\" class=\"data row14 col5\" >100.000000</td>\n",
       "    </tr>\n",
       "    <tr>\n",
       "      <th id=\"T_1c0b5_level0_row15\" class=\"row_heading level0 row15\" >16</th>\n",
       "      <td id=\"T_1c0b5_row15_col0\" class=\"data row15 col0\" >80.000000</td>\n",
       "      <td id=\"T_1c0b5_row15_col1\" class=\"data row15 col1\" >45.000000</td>\n",
       "      <td id=\"T_1c0b5_row15_col2\" class=\"data row15 col2\" >7.000000</td>\n",
       "      <td id=\"T_1c0b5_row15_col3\" class=\"data row15 col3\" >2.000000</td>\n",
       "      <td id=\"T_1c0b5_row15_col4\" class=\"data row15 col4\" >2250.000000</td>\n",
       "      <td id=\"T_1c0b5_row15_col5\" class=\"data row15 col5\" >1071.430000</td>\n",
       "    </tr>\n",
       "    <tr>\n",
       "      <th id=\"T_1c0b5_level0_row16\" class=\"row_heading level0 row16\" >17</th>\n",
       "      <td id=\"T_1c0b5_row16_col0\" class=\"data row16 col0\" >150.000000</td>\n",
       "      <td id=\"T_1c0b5_row16_col1\" class=\"data row16 col1\" >50.000000</td>\n",
       "      <td id=\"T_1c0b5_row16_col2\" class=\"data row16 col2\" >10.000000</td>\n",
       "      <td id=\"T_1c0b5_row16_col3\" class=\"data row16 col3\" >3.000000</td>\n",
       "      <td id=\"T_1c0b5_row16_col4\" class=\"data row16 col4\" >5000.000000</td>\n",
       "      <td id=\"T_1c0b5_row16_col5\" class=\"data row16 col5\" >500.000000</td>\n",
       "    </tr>\n",
       "    <tr>\n",
       "      <th id=\"T_1c0b5_level0_row17\" class=\"row_heading level0 row17\" >18</th>\n",
       "      <td id=\"T_1c0b5_row17_col0\" class=\"data row17 col0\" >100.000000</td>\n",
       "      <td id=\"T_1c0b5_row17_col1\" class=\"data row17 col1\" >50.000000</td>\n",
       "      <td id=\"T_1c0b5_row17_col2\" class=\"data row17 col2\" >4.000000</td>\n",
       "      <td id=\"T_1c0b5_row17_col3\" class=\"data row17 col3\" >1.000000</td>\n",
       "      <td id=\"T_1c0b5_row17_col4\" class=\"data row17 col4\" >10000.000000</td>\n",
       "      <td id=\"T_1c0b5_row17_col5\" class=\"data row17 col5\" >1250.000000</td>\n",
       "    </tr>\n",
       "    <tr>\n",
       "      <th id=\"T_1c0b5_level0_row18\" class=\"row_heading level0 row18\" >19</th>\n",
       "      <td id=\"T_1c0b5_row18_col0\" class=\"data row18 col0\" >125.000000</td>\n",
       "      <td id=\"T_1c0b5_row18_col1\" class=\"data row18 col1\" >15.000000</td>\n",
       "      <td id=\"T_1c0b5_row18_col2\" class=\"data row18 col2\" >8.000000</td>\n",
       "      <td id=\"T_1c0b5_row18_col3\" class=\"data row18 col3\" >1.250000</td>\n",
       "      <td id=\"T_1c0b5_row18_col4\" class=\"data row18 col4\" >10000.000000</td>\n",
       "      <td id=\"T_1c0b5_row18_col5\" class=\"data row18 col5\" >300.000000</td>\n",
       "    </tr>\n",
       "    <tr>\n",
       "      <th id=\"T_1c0b5_level0_row19\" class=\"row_heading level0 row19\" >20</th>\n",
       "      <td id=\"T_1c0b5_row19_col0\" class=\"data row19 col0\" >65.000000</td>\n",
       "      <td id=\"T_1c0b5_row19_col1\" class=\"data row19 col1\" >35.000000</td>\n",
       "      <td id=\"T_1c0b5_row19_col2\" class=\"data row19 col2\" >5.000000</td>\n",
       "      <td id=\"T_1c0b5_row19_col3\" class=\"data row19 col3\" >2.000000</td>\n",
       "      <td id=\"T_1c0b5_row19_col4\" class=\"data row19 col4\" >3250.000000</td>\n",
       "      <td id=\"T_1c0b5_row19_col5\" class=\"data row19 col5\" >700.000000</td>\n",
       "    </tr>\n",
       "    <tr>\n",
       "      <th id=\"T_1c0b5_level0_row20\" class=\"row_heading level0 row20\" >21</th>\n",
       "      <td id=\"T_1c0b5_row20_col0\" class=\"data row20 col0\" >100.000000</td>\n",
       "      <td id=\"T_1c0b5_row20_col1\" class=\"data row20 col1\" >35.000000</td>\n",
       "      <td id=\"T_1c0b5_row20_col2\" class=\"data row20 col2\" >10.000000</td>\n",
       "      <td id=\"T_1c0b5_row20_col3\" class=\"data row20 col3\" >5.000000</td>\n",
       "      <td id=\"T_1c0b5_row20_col4\" class=\"data row20 col4\" >1250.000000</td>\n",
       "      <td id=\"T_1c0b5_row20_col5\" class=\"data row20 col5\" >470.000000</td>\n",
       "    </tr>\n",
       "    <tr>\n",
       "      <th id=\"T_1c0b5_level0_row21\" class=\"row_heading level0 row21\" >22</th>\n",
       "      <td id=\"T_1c0b5_row21_col0\" class=\"data row21 col0\" >80.000000</td>\n",
       "      <td id=\"T_1c0b5_row21_col1\" class=\"data row21 col1\" >50.000000</td>\n",
       "      <td id=\"T_1c0b5_row21_col2\" class=\"data row21 col2\" >5.000000</td>\n",
       "      <td id=\"T_1c0b5_row21_col3\" class=\"data row21 col3\" >2.000000</td>\n",
       "      <td id=\"T_1c0b5_row21_col4\" class=\"data row21 col4\" >3000.000000</td>\n",
       "      <td id=\"T_1c0b5_row21_col5\" class=\"data row21 col5\" >1500.000000</td>\n",
       "    </tr>\n",
       "    <tr>\n",
       "      <th id=\"T_1c0b5_level0_row22\" class=\"row_heading level0 row22\" >23</th>\n",
       "      <td id=\"T_1c0b5_row22_col0\" class=\"data row22 col0\" >100.000000</td>\n",
       "      <td id=\"T_1c0b5_row22_col1\" class=\"data row22 col1\" >30.000000</td>\n",
       "      <td id=\"T_1c0b5_row22_col2\" class=\"data row22 col2\" >5.000000</td>\n",
       "      <td id=\"T_1c0b5_row22_col3\" class=\"data row22 col3\" >1.000000</td>\n",
       "      <td id=\"T_1c0b5_row22_col4\" class=\"data row22 col4\" >10000.000000</td>\n",
       "      <td id=\"T_1c0b5_row22_col5\" class=\"data row22 col5\" >600.000000</td>\n",
       "    </tr>\n",
       "    <tr>\n",
       "      <th id=\"T_1c0b5_level0_row23\" class=\"row_heading level0 row23\" >24</th>\n",
       "      <td id=\"T_1c0b5_row23_col0\" class=\"data row23 col0\" >40.000000</td>\n",
       "      <td id=\"T_1c0b5_row23_col1\" class=\"data row23 col1\" >20.000000</td>\n",
       "      <td id=\"T_1c0b5_row23_col2\" class=\"data row23 col2\" >10.000000</td>\n",
       "      <td id=\"T_1c0b5_row23_col3\" class=\"data row23 col3\" >8.000000</td>\n",
       "      <td id=\"T_1c0b5_row23_col4\" class=\"data row23 col4\" >500.000000</td>\n",
       "      <td id=\"T_1c0b5_row23_col5\" class=\"data row23 col5\" >200.000000</td>\n",
       "    </tr>\n",
       "    <tr>\n",
       "      <th id=\"T_1c0b5_level0_row24\" class=\"row_heading level0 row24\" >25</th>\n",
       "      <td id=\"T_1c0b5_row24_col0\" class=\"data row24 col0\" >150.000000</td>\n",
       "      <td id=\"T_1c0b5_row24_col1\" class=\"data row24 col1\" >50.000000</td>\n",
       "      <td id=\"T_1c0b5_row24_col2\" class=\"data row24 col2\" >4.000000</td>\n",
       "      <td id=\"T_1c0b5_row24_col3\" class=\"data row24 col3\" >2.000000</td>\n",
       "      <td id=\"T_1c0b5_row24_col4\" class=\"data row24 col4\" >7500.000000</td>\n",
       "      <td id=\"T_1c0b5_row24_col5\" class=\"data row24 col5\" >1250.000000</td>\n",
       "    </tr>\n",
       "    <tr>\n",
       "      <th id=\"T_1c0b5_level0_row25\" class=\"row_heading level0 row25\" >26</th>\n",
       "      <td id=\"T_1c0b5_row25_col0\" class=\"data row25 col0\" >65.000000</td>\n",
       "      <td id=\"T_1c0b5_row25_col1\" class=\"data row25 col1\" >50.000000</td>\n",
       "      <td id=\"T_1c0b5_row25_col2\" class=\"data row25 col2\" >10.000000</td>\n",
       "      <td id=\"T_1c0b5_row25_col3\" class=\"data row25 col3\" >1.000000</td>\n",
       "      <td id=\"T_1c0b5_row25_col4\" class=\"data row25 col4\" >6500.000000</td>\n",
       "      <td id=\"T_1c0b5_row25_col5\" class=\"data row25 col5\" >500.000000</td>\n",
       "    </tr>\n",
       "    <tr>\n",
       "      <th id=\"T_1c0b5_level0_row26\" class=\"row_heading level0 row26\" >27</th>\n",
       "      <td id=\"T_1c0b5_row26_col0\" class=\"data row26 col0\" >100.000000</td>\n",
       "      <td id=\"T_1c0b5_row26_col1\" class=\"data row26 col1\" >0.001010</td>\n",
       "      <td id=\"T_1c0b5_row26_col2\" class=\"data row26 col2\" >10.000000</td>\n",
       "      <td id=\"T_1c0b5_row26_col3\" class=\"data row26 col3\" >1.000000</td>\n",
       "      <td id=\"T_1c0b5_row26_col4\" class=\"data row26 col4\" >10000.000000</td>\n",
       "      <td id=\"T_1c0b5_row26_col5\" class=\"data row26 col5\" >0.010000</td>\n",
       "    </tr>\n",
       "    <tr>\n",
       "      <th id=\"T_1c0b5_level0_row27\" class=\"row_heading level0 row27\" >28</th>\n",
       "      <td id=\"T_1c0b5_row27_col0\" class=\"data row27 col0\" >90.000000</td>\n",
       "      <td id=\"T_1c0b5_row27_col1\" class=\"data row27 col1\" >50.000000</td>\n",
       "      <td id=\"T_1c0b5_row27_col2\" class=\"data row27 col2\" >5.000000</td>\n",
       "      <td id=\"T_1c0b5_row27_col3\" class=\"data row27 col3\" >4.000000</td>\n",
       "      <td id=\"T_1c0b5_row27_col4\" class=\"data row27 col4\" >1875.000000</td>\n",
       "      <td id=\"T_1c0b5_row27_col5\" class=\"data row27 col5\" >1000.000000</td>\n",
       "    </tr>\n",
       "    <tr>\n",
       "      <th id=\"T_1c0b5_level0_row28\" class=\"row_heading level0 row28\" >29</th>\n",
       "      <td id=\"T_1c0b5_row28_col0\" class=\"data row28 col0\" >100.000000</td>\n",
       "      <td id=\"T_1c0b5_row28_col1\" class=\"data row28 col1\" >75.000000</td>\n",
       "      <td id=\"T_1c0b5_row28_col2\" class=\"data row28 col2\" >5.000000</td>\n",
       "      <td id=\"T_1c0b5_row28_col3\" class=\"data row28 col3\" >3.000000</td>\n",
       "      <td id=\"T_1c0b5_row28_col4\" class=\"data row28 col4\" >2857.140000</td>\n",
       "      <td id=\"T_1c0b5_row28_col5\" class=\"data row28 col5\" >1500.000000</td>\n",
       "    </tr>\n",
       "    <tr>\n",
       "      <th id=\"T_1c0b5_level0_row29\" class=\"row_heading level0 row29\" >30</th>\n",
       "      <td id=\"T_1c0b5_row29_col0\" class=\"data row29 col0\" >300.000000</td>\n",
       "      <td id=\"T_1c0b5_row29_col1\" class=\"data row29 col1\" >50.000000</td>\n",
       "      <td id=\"T_1c0b5_row29_col2\" class=\"data row29 col2\" >15.000000</td>\n",
       "      <td id=\"T_1c0b5_row29_col3\" class=\"data row29 col3\" >1.000000</td>\n",
       "      <td id=\"T_1c0b5_row29_col4\" class=\"data row29 col4\" >30000.000000</td>\n",
       "      <td id=\"T_1c0b5_row29_col5\" class=\"data row29 col5\" >500.000000</td>\n",
       "    </tr>\n",
       "    <tr>\n",
       "      <th id=\"T_1c0b5_level0_row30\" class=\"row_heading level0 row30\" >31</th>\n",
       "      <td id=\"T_1c0b5_row30_col0\" class=\"data row30 col0\" >75.000000</td>\n",
       "      <td id=\"T_1c0b5_row30_col1\" class=\"data row30 col1\" >50.000000</td>\n",
       "      <td id=\"T_1c0b5_row30_col2\" class=\"data row30 col2\" >10.000000</td>\n",
       "      <td id=\"T_1c0b5_row30_col3\" class=\"data row30 col3\" >2.000000</td>\n",
       "      <td id=\"T_1c0b5_row30_col4\" class=\"data row30 col4\" >3750.000000</td>\n",
       "      <td id=\"T_1c0b5_row30_col5\" class=\"data row30 col5\" >500.000000</td>\n",
       "    </tr>\n",
       "    <tr>\n",
       "      <th id=\"T_1c0b5_level0_row31\" class=\"row_heading level0 row31\" >32</th>\n",
       "      <td id=\"T_1c0b5_row31_col0\" class=\"data row31 col0\" >200.000000</td>\n",
       "      <td id=\"T_1c0b5_row31_col1\" class=\"data row31 col1\" >35.000000</td>\n",
       "      <td id=\"T_1c0b5_row31_col2\" class=\"data row31 col2\" >7.000000</td>\n",
       "      <td id=\"T_1c0b5_row31_col3\" class=\"data row31 col3\" >1.000000</td>\n",
       "      <td id=\"T_1c0b5_row31_col4\" class=\"data row31 col4\" >5000.000000</td>\n",
       "      <td id=\"T_1c0b5_row31_col5\" class=\"data row31 col5\" >583.330000</td>\n",
       "    </tr>\n",
       "    <tr>\n",
       "      <th id=\"T_1c0b5_level0_row32\" class=\"row_heading level0 row32\" >33</th>\n",
       "      <td id=\"T_1c0b5_row32_col0\" class=\"data row32 col0\" >40.000000</td>\n",
       "      <td id=\"T_1c0b5_row32_col1\" class=\"data row32 col1\" >35.000000</td>\n",
       "      <td id=\"T_1c0b5_row32_col2\" class=\"data row32 col2\" >10.000000</td>\n",
       "      <td id=\"T_1c0b5_row32_col3\" class=\"data row32 col3\" >1.000000</td>\n",
       "      <td id=\"T_1c0b5_row32_col4\" class=\"data row32 col4\" >3500.000000</td>\n",
       "      <td id=\"T_1c0b5_row32_col5\" class=\"data row32 col5\" >400.000000</td>\n",
       "    </tr>\n",
       "    <tr>\n",
       "      <th id=\"T_1c0b5_level0_row33\" class=\"row_heading level0 row33\" >34</th>\n",
       "      <td id=\"T_1c0b5_row33_col0\" class=\"data row33 col0\" >100.000000</td>\n",
       "      <td id=\"T_1c0b5_row33_col1\" class=\"data row33 col1\" >30.000000</td>\n",
       "      <td id=\"T_1c0b5_row33_col2\" class=\"data row33 col2\" >10.000000</td>\n",
       "      <td id=\"T_1c0b5_row33_col3\" class=\"data row33 col3\" >1.000000</td>\n",
       "      <td id=\"T_1c0b5_row33_col4\" class=\"data row33 col4\" >10000.000000</td>\n",
       "      <td id=\"T_1c0b5_row33_col5\" class=\"data row33 col5\" >400.000000</td>\n",
       "    </tr>\n",
       "    <tr>\n",
       "      <th id=\"T_1c0b5_level0_row34\" class=\"row_heading level0 row34\" >35</th>\n",
       "      <td id=\"T_1c0b5_row34_col0\" class=\"data row34 col0\" >100.000000</td>\n",
       "      <td id=\"T_1c0b5_row34_col1\" class=\"data row34 col1\" >40.000000</td>\n",
       "      <td id=\"T_1c0b5_row34_col2\" class=\"data row34 col2\" >8.000000</td>\n",
       "      <td id=\"T_1c0b5_row34_col3\" class=\"data row34 col3\" >2.500000</td>\n",
       "      <td id=\"T_1c0b5_row34_col4\" class=\"data row34 col4\" >4000.000000</td>\n",
       "      <td id=\"T_1c0b5_row34_col5\" class=\"data row34 col5\" >500.000000</td>\n",
       "    </tr>\n",
       "  </tbody>\n",
       "</table>\n"
      ],
      "text/plain": [
       "<pandas.io.formats.style.Styler at 0x2836a3ce070>"
      ]
     },
     "execution_count": 9,
     "metadata": {},
     "output_type": "execute_result"
    }
   ],
   "source": [
    "print('*MAXIMUM OF ASKED EPISODEWISE*')\n",
    "a=df.groupby('episode_number')[['pitcher_ask_amount','ask_equity','ask_valuation']].agg(['max','min'])\n",
    "styler = a.style\n",
    "styler.background_gradient(cmap='Wistia')\n",
    "styler\n"
   ]
  },
  {
   "cell_type": "markdown",
   "id": "db06438d",
   "metadata": {},
   "source": [
    "# 4. Brand names in which 2 ,3 or 4 sharks are invested"
   ]
  },
  {
   "cell_type": "code",
   "execution_count": 9,
   "id": "d5fd3c3e",
   "metadata": {},
   "outputs": [
    {
     "data": {
      "text/plain": [
       "<AxesSubplot:>"
      ]
     },
     "execution_count": 9,
     "metadata": {},
     "output_type": "execute_result"
    },
    {
     "data": {
      "image/png": "[encoded data removed]",
      "text/plain": [
       "<Figure size 1100x700 with 1 Axes>"
      ]
     },
     "metadata": {},
     "output_type": "display_data"
    }
   ],
   "source": [
    "filtered_df = df[['brand_name','total_sharks_invested']][df['total_sharks_invested'] >= 2].sort_values(by='total_sharks_invested',ascending=False)\n",
    "filtered_df.plot.bar(color='green',figsize=(11,7))"
   ]
  },
  {
   "cell_type": "markdown",
   "id": "9392d3d0",
   "metadata": {},
   "source": [
    "# 5. Episode wise minimum and maximum of sharks invested"
   ]
  },
  {
   "cell_type": "code",
   "execution_count": 10,
   "id": "5e970267",
   "metadata": {},
   "outputs": [
    {
     "name": "stdout",
     "output_type": "stream",
     "text": [
      "*EPISODE WISE MAXIMUM OF SHARKS INVESTED*\n"
     ]
    },
    {
     "data": {
      "text/plain": [
       "<AxesSubplot:title={'center':'EPISODE WISE MAXIMUM OF SHARKS INVESTED'}, xlabel='episode_number'>"
      ]
     },
     "execution_count": 10,
     "metadata": {},
     "output_type": "execute_result"
    },
    {
     "data": {
      "image/png": "[encoded data removed]",
      "text/plain": [
       "<Figure size 1100x700 with 1 Axes>"
      ]
     },
     "metadata": {},
     "output_type": "display_data"
    }
   ],
   "source": [
    "print('*EPISODE WISE MAXIMUM OF SHARKS INVESTED*')\n",
    "a=df.groupby('episode_number')[['total_sharks_invested']].max().sort_values(by='total_sharks_invested',ascending=False)\n",
    "a.plot.bar(figsize=(11,7),title='EPISODE WISE MAXIMUM OF SHARKS INVESTED')"
   ]
  },
  {
   "cell_type": "code",
   "execution_count": 11,
   "id": "4e420176",
   "metadata": {},
   "outputs": [
    {
     "data": {
      "text/plain": [
       "<AxesSubplot:title={'center':'EPISODE WISE MINIMUM OF SHARKS INVESTED'}, xlabel='episode_number'>"
      ]
     },
     "execution_count": 11,
     "metadata": {},
     "output_type": "execute_result"
    },
    {
     "data": {
      "image/png": "[encoded data removed]",
      "text/plain": [
       "<Figure size 1100x700 with 1 Axes>"
      ]
     },
     "metadata": {},
     "output_type": "display_data"
    }
   ],
   "source": [
    "a=df.groupby('episode_number')[['total_sharks_invested']].min().sort_values(by='total_sharks_invested',ascending=True)\n",
    "a.plot.bar(figsize=(11,7),title='EPISODE WISE MINIMUM OF SHARKS INVESTED')"
   ]
  },
  {
   "cell_type": "markdown",
   "id": "d123c680",
   "metadata": {},
   "source": [
    "# 6. Sharks invested in each brand"
   ]
  },
  {
   "cell_type": "code",
   "execution_count": 12,
   "id": "fc262963",
   "metadata": {},
   "outputs": [
    {
     "data": {
      "text/html": [
       "<div>\n",
       "<style scoped>\n",
       "    .dataframe tbody tr th:only-of-type {\n",
       "        vertical-align: middle;\n",
       "    }\n",
       "\n",
       "    .dataframe tbody tr th {\n",
       "        vertical-align: top;\n",
       "    }\n",
       "\n",
       "    .dataframe thead th {\n",
       "        text-align: right;\n",
       "    }\n",
       "</style>\n",
       "<table border=\"1\" class=\"dataframe\">\n",
       "  <thead>\n",
       "    <tr style=\"text-align: right;\">\n",
       "      <th></th>\n",
       "      <th>brand_name</th>\n",
       "      <th>total_sharks_invested</th>\n",
       "    </tr>\n",
       "  </thead>\n",
       "  <tbody>\n",
       "    <tr>\n",
       "      <th>49</th>\n",
       "      <td>Find Your Kicks India</td>\n",
       "      <td>5</td>\n",
       "    </tr>\n",
       "    <tr>\n",
       "      <th>79</th>\n",
       "      <td>Sunfox Technologies</td>\n",
       "      <td>5</td>\n",
       "    </tr>\n",
       "    <tr>\n",
       "      <th>15</th>\n",
       "      <td>Skippi Pops</td>\n",
       "      <td>5</td>\n",
       "    </tr>\n",
       "    <tr>\n",
       "      <th>63</th>\n",
       "      <td>IN A CAN</td>\n",
       "      <td>5</td>\n",
       "    </tr>\n",
       "    <tr>\n",
       "      <th>58</th>\n",
       "      <td>WeSTOCK</td>\n",
       "      <td>4</td>\n",
       "    </tr>\n",
       "    <tr>\n",
       "      <th>...</th>\n",
       "      <td>...</td>\n",
       "      <td>...</td>\n",
       "    </tr>\n",
       "    <tr>\n",
       "      <th>73</th>\n",
       "      <td>Guardian Gears</td>\n",
       "      <td>0</td>\n",
       "    </tr>\n",
       "    <tr>\n",
       "      <th>74</th>\n",
       "      <td>Modern Myth</td>\n",
       "      <td>0</td>\n",
       "    </tr>\n",
       "    <tr>\n",
       "      <th>77</th>\n",
       "      <td>Nuskha Kitchen</td>\n",
       "      <td>0</td>\n",
       "    </tr>\n",
       "    <tr>\n",
       "      <th>80</th>\n",
       "      <td>Alpino</td>\n",
       "      <td>0</td>\n",
       "    </tr>\n",
       "    <tr>\n",
       "      <th>116</th>\n",
       "      <td>Elcare India</td>\n",
       "      <td>0</td>\n",
       "    </tr>\n",
       "  </tbody>\n",
       "</table>\n",
       "<p>117 rows × 2 columns</p>\n",
       "</div>"
      ],
      "text/plain": [
       "                brand_name  total_sharks_invested\n",
       "49   Find Your Kicks India                      5\n",
       "79     Sunfox Technologies                      5\n",
       "15             Skippi Pops                      5\n",
       "63                IN A CAN                      5\n",
       "58                 WeSTOCK                      4\n",
       "..                     ...                    ...\n",
       "73          Guardian Gears                      0\n",
       "74             Modern Myth                      0\n",
       "77          Nuskha Kitchen                      0\n",
       "80                  Alpino                      0\n",
       "116           Elcare India                      0\n",
       "\n",
       "[117 rows x 2 columns]"
      ]
     },
     "execution_count": 12,
     "metadata": {},
     "output_type": "execute_result"
    }
   ],
   "source": [
    "a=df[['brand_name','total_sharks_invested']].sort_values(by='total_sharks_invested',ascending=False)\n",
    "a"
   ]
  },
  {
   "cell_type": "markdown",
   "id": "6734b303",
   "metadata": {},
   "source": [
    "# 7. Brand names who ask for 1 crore and got a deal"
   ]
  },
  {
   "cell_type": "code",
   "execution_count": 13,
   "id": "dcb4a6b5",
   "metadata": {},
   "outputs": [
    {
     "name": "stderr",
     "output_type": "stream",
     "text": [
      "C:\\Users\\SHUBHAM\\AppData\\Local\\Temp\\ipykernel_14644\\3721623929.py:1: UserWarning: Boolean Series key will be reindexed to match DataFrame index.\n",
      "  a=df[['brand_name','pitcher_ask_amount','deal_amount']][df['pitcher_ask_amount'] ==100][df['deal']==1]\n"
     ]
    },
    {
     "data": {
      "text/plain": [
       "<AxesSubplot:xlabel='brand_name'>"
      ]
     },
     "execution_count": 13,
     "metadata": {},
     "output_type": "execute_result"
    },
    {
     "data": {
      "image/png": "[encoded data removed]",
      "text/plain": [
       "<Figure size 640x480 with 1 Axes>"
      ]
     },
     "metadata": {},
     "output_type": "display_data"
    }
   ],
   "source": [
    "a=df[['brand_name','pitcher_ask_amount','deal_amount']][df['pitcher_ask_amount'] ==100][df['deal']==1]\n",
    "a1=df['deal_amount'].map('₹{:,.2f}'.format)\n",
    "a.plot.bar(x='brand_name' )"
   ]
  },
  {
   "cell_type": "markdown",
   "id": "3cfb6dec",
   "metadata": {},
   "source": [
    "# 8. Brand names where deal equity is between 0 to 50"
   ]
  },
  {
   "cell_type": "code",
   "execution_count": 14,
   "id": "593150c2",
   "metadata": {},
   "outputs": [
    {
     "name": "stderr",
     "output_type": "stream",
     "text": [
      "C:\\Users\\SHUBHAM\\AppData\\Local\\Temp\\ipykernel_9188\\4035895265.py:1: UserWarning: Boolean Series key will be reindexed to match DataFrame index.\n",
      "  a=df[['brand_name','deal_equity']][df['deal_equity']<50][df['deal_equity']>0]\n"
     ]
    },
    {
     "data": {
      "text/html": [
       "<div>\n",
       "<style scoped>\n",
       "    .dataframe tbody tr th:only-of-type {\n",
       "        vertical-align: middle;\n",
       "    }\n",
       "\n",
       "    .dataframe tbody tr th {\n",
       "        vertical-align: top;\n",
       "    }\n",
       "\n",
       "    .dataframe thead th {\n",
       "        text-align: right;\n",
       "    }\n",
       "</style>\n",
       "<table border=\"1\" class=\"dataframe\">\n",
       "  <thead>\n",
       "    <tr style=\"text-align: right;\">\n",
       "      <th></th>\n",
       "      <th>brand_name</th>\n",
       "      <th>deal_equity</th>\n",
       "    </tr>\n",
       "  </thead>\n",
       "  <tbody>\n",
       "    <tr>\n",
       "      <th>0</th>\n",
       "      <td>BluePine Industries</td>\n",
       "      <td>16.00</td>\n",
       "    </tr>\n",
       "    <tr>\n",
       "      <th>2</th>\n",
       "      <td>Heart up my Sleeves</td>\n",
       "      <td>30.00</td>\n",
       "    </tr>\n",
       "    <tr>\n",
       "      <th>3</th>\n",
       "      <td>Tagz Foods</td>\n",
       "      <td>2.75</td>\n",
       "    </tr>\n",
       "    <tr>\n",
       "      <th>7</th>\n",
       "      <td>Peeschute</td>\n",
       "      <td>6.00</td>\n",
       "    </tr>\n",
       "    <tr>\n",
       "      <th>8</th>\n",
       "      <td>NOCD</td>\n",
       "      <td>15.00</td>\n",
       "    </tr>\n",
       "    <tr>\n",
       "      <th>...</th>\n",
       "      <td>...</td>\n",
       "      <td>...</td>\n",
       "    </tr>\n",
       "    <tr>\n",
       "      <th>106</th>\n",
       "      <td>Colour Me Mad</td>\n",
       "      <td>25.00</td>\n",
       "    </tr>\n",
       "    <tr>\n",
       "      <th>108</th>\n",
       "      <td>Tweek Labs</td>\n",
       "      <td>10.00</td>\n",
       "    </tr>\n",
       "    <tr>\n",
       "      <th>109</th>\n",
       "      <td>Proxgy</td>\n",
       "      <td>10.00</td>\n",
       "    </tr>\n",
       "    <tr>\n",
       "      <th>110</th>\n",
       "      <td>Nomad Food Project</td>\n",
       "      <td>20.00</td>\n",
       "    </tr>\n",
       "    <tr>\n",
       "      <th>114</th>\n",
       "      <td>Jain Shikanji</td>\n",
       "      <td>30.00</td>\n",
       "    </tr>\n",
       "  </tbody>\n",
       "</table>\n",
       "<p>62 rows × 2 columns</p>\n",
       "</div>"
      ],
      "text/plain": [
       "              brand_name  deal_equity\n",
       "0    BluePine Industries        16.00\n",
       "2    Heart up my Sleeves        30.00\n",
       "3             Tagz Foods         2.75\n",
       "7              Peeschute         6.00\n",
       "8                   NOCD        15.00\n",
       "..                   ...          ...\n",
       "106        Colour Me Mad        25.00\n",
       "108           Tweek Labs        10.00\n",
       "109               Proxgy        10.00\n",
       "110   Nomad Food Project        20.00\n",
       "114        Jain Shikanji        30.00\n",
       "\n",
       "[62 rows x 2 columns]"
      ]
     },
     "execution_count": 14,
     "metadata": {},
     "output_type": "execute_result"
    }
   ],
   "source": [
    "a=df[['brand_name','deal_equity']][df['deal_equity']<50][df['deal_equity']>0]\n",
    "a\n"
   ]
  },
  {
   "cell_type": "markdown",
   "id": "2a74ba57",
   "metadata": {},
   "source": [
    "# 9. The number of brands participated in each episode"
   ]
  },
  {
   "cell_type": "code",
   "execution_count": 18,
   "id": "3dffb604",
   "metadata": {},
   "outputs": [
    {
     "data": {
      "text/plain": [
       "<Figure size 2000x2000 with 0 Axes>"
      ]
     },
     "execution_count": 18,
     "metadata": {},
     "output_type": "execute_result"
    },
    {
     "data": {
      "image/png": "[encoded data removed]",
      "text/plain": [
       "<Figure size 640x480 with 1 Axes>"
      ]
     },
     "metadata": {},
     "output_type": "display_data"
    },
    {
     "data": {
      "text/plain": [
       "<Figure size 2000x2000 with 0 Axes>"
      ]
     },
     "metadata": {},
     "output_type": "display_data"
    }
   ],
   "source": [
    "a= df.groupby('episode_number')[['brand_name']].count()\n",
    "c=a.rename(columns={'brand_name':'NO Of Brands'})\n",
    "\n",
    "plt.plot( c)\n",
    "plt.ylabel('NO Of Brands')\n",
    "plt.xlabel('EPISODE')\n",
    "plt.title('Number Of Brands Participated In Each Episode')\n",
    "plt.figure(figsize=(20,20))"
   ]
  },
  {
   "cell_type": "markdown",
   "id": "dfaba37b",
   "metadata": {},
   "source": [
    "# 10. Sharks participated in this show and Their names"
   ]
  },
  {
   "cell_type": "code",
   "execution_count": 16,
   "id": "a67c9bc9",
   "metadata": {},
   "outputs": [
    {
     "name": "stdout",
     "output_type": "stream",
     "text": [
      "*Seven Sharks Participated In Shark Tank India.* \n"
     ]
    },
    {
     "data": {
      "text/html": [
       "<div>\n",
       "<style scoped>\n",
       "    .dataframe tbody tr th:only-of-type {\n",
       "        vertical-align: middle;\n",
       "    }\n",
       "\n",
       "    .dataframe tbody tr th {\n",
       "        vertical-align: top;\n",
       "    }\n",
       "\n",
       "    .dataframe thead th {\n",
       "        text-align: right;\n",
       "    }\n",
       "</style>\n",
       "<table border=\"1\" class=\"dataframe\">\n",
       "  <thead>\n",
       "    <tr style=\"text-align: right;\">\n",
       "      <th></th>\n",
       "      <th>Shark Name</th>\n",
       "    </tr>\n",
       "  </thead>\n",
       "  <tbody>\n",
       "    <tr>\n",
       "      <th>0</th>\n",
       "      <td>Aman Gupta</td>\n",
       "    </tr>\n",
       "    <tr>\n",
       "      <th>1</th>\n",
       "      <td>Peyush Bansal</td>\n",
       "    </tr>\n",
       "    <tr>\n",
       "      <th>2</th>\n",
       "      <td>Namita Thapar</td>\n",
       "    </tr>\n",
       "    <tr>\n",
       "      <th>3</th>\n",
       "      <td>Ashneer Grover</td>\n",
       "    </tr>\n",
       "    <tr>\n",
       "      <th>4</th>\n",
       "      <td>Ghazal Alagh</td>\n",
       "    </tr>\n",
       "    <tr>\n",
       "      <th>5</th>\n",
       "      <td>Anupam Mittal</td>\n",
       "    </tr>\n",
       "    <tr>\n",
       "      <th>6</th>\n",
       "      <td>Vineeta Singh</td>\n",
       "    </tr>\n",
       "  </tbody>\n",
       "</table>\n",
       "</div>"
      ],
      "text/plain": [
       "       Shark Name\n",
       "0      Aman Gupta\n",
       "1   Peyush Bansal\n",
       "2   Namita Thapar\n",
       "3  Ashneer Grover\n",
       "4    Ghazal Alagh\n",
       "5   Anupam Mittal\n",
       "6   Vineeta Singh"
      ]
     },
     "execution_count": 16,
     "metadata": {},
     "output_type": "execute_result"
    }
   ],
   "source": [
    "print('*Seven Sharks Participated In Shark Tank India.* ')\n",
    "name={'Shark Name':['Aman Gupta','Peyush Bansal','Namita Thapar','Ashneer Grover','Ghazal Alagh','Anupam Mittal','Vineeta Singh']}\n",
    "nm=pd.DataFrame(name)\n",
    "nm\n"
   ]
  },
  {
   "cell_type": "markdown",
   "id": "57c43c20",
   "metadata": {},
   "source": [
    "# 11. Appearance of each sharks"
   ]
  },
  {
   "cell_type": "code",
   "execution_count": 17,
   "id": "b72afcc9",
   "metadata": {},
   "outputs": [
    {
     "data": {
      "text/html": [
       "<style type=\"text/css\">\n",
       "#T_4ec4e_row0_col1 {\n",
       "  background-color: #00441b;\n",
       "  color: #f1f1f1;\n",
       "}\n",
       "#T_4ec4e_row1_col1 {\n",
       "  background-color: #006b2b;\n",
       "  color: #f1f1f1;\n",
       "}\n",
       "#T_4ec4e_row2_col1, #T_4ec4e_row3_col1 {\n",
       "  background-color: #17813d;\n",
       "  color: #f1f1f1;\n",
       "}\n",
       "#T_4ec4e_row4_col1 {\n",
       "  background-color: #339c52;\n",
       "  color: #f1f1f1;\n",
       "}\n",
       "#T_4ec4e_row5_col1 {\n",
       "  background-color: #8ace88;\n",
       "  color: #000000;\n",
       "}\n",
       "#T_4ec4e_row6_col1 {\n",
       "  background-color: #f7fcf5;\n",
       "  color: #000000;\n",
       "}\n",
       "</style>\n",
       "<table id=\"T_4ec4e\">\n",
       "  <thead>\n",
       "    <tr>\n",
       "      <th class=\"blank level0\" >&nbsp;</th>\n",
       "      <th id=\"T_4ec4e_level0_col0\" class=\"col_heading level0 col0\" >Shark Name</th>\n",
       "      <th id=\"T_4ec4e_level0_col1\" class=\"col_heading level0 col1\" >Appeared</th>\n",
       "    </tr>\n",
       "  </thead>\n",
       "  <tbody>\n",
       "    <tr>\n",
       "      <th id=\"T_4ec4e_level0_row0\" class=\"row_heading level0 row0\" >0</th>\n",
       "      <td id=\"T_4ec4e_row0_col0\" class=\"data row0 col0\" >Anupam Mittal</td>\n",
       "      <td id=\"T_4ec4e_row0_col1\" class=\"data row0 col1\" >117</td>\n",
       "    </tr>\n",
       "    <tr>\n",
       "      <th id=\"T_4ec4e_level0_row1\" class=\"row_heading level0 row1\" >1</th>\n",
       "      <td id=\"T_4ec4e_row1_col0\" class=\"data row1 col0\" >Namita Thapar</td>\n",
       "      <td id=\"T_4ec4e_row1_col1\" class=\"data row1 col1\" >106</td>\n",
       "    </tr>\n",
       "    <tr>\n",
       "      <th id=\"T_4ec4e_level0_row2\" class=\"row_heading level0 row2\" >2</th>\n",
       "      <td id=\"T_4ec4e_row2_col0\" class=\"data row2 col0\" >Aman Gupta</td>\n",
       "      <td id=\"T_4ec4e_row2_col1\" class=\"data row2 col1\" >98</td>\n",
       "    </tr>\n",
       "    <tr>\n",
       "      <th id=\"T_4ec4e_level0_row3\" class=\"row_heading level0 row3\" >3</th>\n",
       "      <td id=\"T_4ec4e_row3_col0\" class=\"data row3 col0\" >Ashneer Grover</td>\n",
       "      <td id=\"T_4ec4e_row3_col1\" class=\"data row3 col1\" >98</td>\n",
       "    </tr>\n",
       "    <tr>\n",
       "      <th id=\"T_4ec4e_level0_row4\" class=\"row_heading level0 row4\" >4</th>\n",
       "      <td id=\"T_4ec4e_row4_col0\" class=\"data row4 col0\" >Peyush Bansal</td>\n",
       "      <td id=\"T_4ec4e_row4_col1\" class=\"data row4 col1\" >88</td>\n",
       "    </tr>\n",
       "    <tr>\n",
       "      <th id=\"T_4ec4e_level0_row5\" class=\"row_heading level0 row5\" >5</th>\n",
       "      <td id=\"T_4ec4e_row5_col0\" class=\"data row5 col0\" >Vineeta Singh</td>\n",
       "      <td id=\"T_4ec4e_row5_col1\" class=\"data row5 col1\" >66</td>\n",
       "    </tr>\n",
       "    <tr>\n",
       "      <th id=\"T_4ec4e_level0_row6\" class=\"row_heading level0 row6\" >6</th>\n",
       "      <td id=\"T_4ec4e_row6_col0\" class=\"data row6 col0\" >Ghazal Alagh</td>\n",
       "      <td id=\"T_4ec4e_row6_col1\" class=\"data row6 col1\" >26</td>\n",
       "    </tr>\n",
       "  </tbody>\n",
       "</table>\n"
      ],
      "text/plain": [
       "<pandas.io.formats.style.Styler at 0x20c24a926a0>"
      ]
     },
     "execution_count": 17,
     "metadata": {},
     "output_type": "execute_result"
    }
   ],
   "source": [
    "a1=df[[ 'aman_present']][df['aman_present']>=1]\n",
    "s1=len(a1)\n",
    "a2=df[['peyush_present']][df['peyush_present']>=1]\n",
    "s2=len(a2)\n",
    "a3=df[['namita_present']][df[ 'namita_present']>=1]\n",
    "s3=len(a3)\n",
    "a4=df[['ashneer_present']][df[ 'ashneer_present']>=1]\n",
    "s4=len(a4)\n",
    "a5=df[['ghazal_present']][df['ghazal_present' ]>=1]\n",
    "s5=len(a5)\n",
    "a6=df[['vineeta_present']][df['vineeta_present' ]>=1]\n",
    "s6=len(a6)\n",
    "a7=df[['anupam_present']][df['anupam_present']>=1]\n",
    "s7=len(a7)\n",
    "name={'Shark Name':['Aman Gupta','Peyush Bansal','Namita Thapar','Ashneer Grover','Ghazal Alagh','Anupam Mittal','Vineeta Singh'],'Appeared':[s1,s2,s3,s4,s5,s7,s6]}\n",
    "nm=pd.DataFrame(name)\n",
    "f=nm.sort_values(by='Appeared',ascending=False)\n",
    "f1=f.reset_index(drop=True)\n",
    "styler=f1.style\n",
    "styler.background_gradient(cmap='Greens')\n",
    "styler\n"
   ]
  },
  {
   "cell_type": "markdown",
   "id": "b3023d1a",
   "metadata": {},
   "source": [
    "# 12. Total no of Entrepreneurs were present"
   ]
  },
  {
   "cell_type": "code",
   "execution_count": 18,
   "id": "485af745",
   "metadata": {},
   "outputs": [
    {
     "name": "stdout",
     "output_type": "stream",
     "text": [
      "Total 117 Entrepreneurs were Participated\n"
     ]
    }
   ],
   "source": [
    "a=df['brand_name'].count()\n",
    "print('Total',a,'Entrepreneurs were Participated')"
   ]
  },
  {
   "cell_type": "markdown",
   "id": "a7111547",
   "metadata": {},
   "source": [
    "# 13. How many times each shark invested the deal"
   ]
  },
  {
   "cell_type": "code",
   "execution_count": 19,
   "id": "7addd177",
   "metadata": {},
   "outputs": [
    {
     "data": {
      "text/html": [
       "<style type=\"text/css\">\n",
       "#T_d0895_row0_col1 {\n",
       "  background-color: #67000d;\n",
       "  color: #f1f1f1;\n",
       "}\n",
       "#T_d0895_row1_col1 {\n",
       "  background-color: #7e0610;\n",
       "  color: #f1f1f1;\n",
       "}\n",
       "#T_d0895_row2_col1 {\n",
       "  background-color: #b81419;\n",
       "  color: #f1f1f1;\n",
       "}\n",
       "#T_d0895_row3_col1 {\n",
       "  background-color: #d52221;\n",
       "  color: #f1f1f1;\n",
       "}\n",
       "#T_d0895_row4_col1 {\n",
       "  background-color: #e32f27;\n",
       "  color: #f1f1f1;\n",
       "}\n",
       "#T_d0895_row5_col1 {\n",
       "  background-color: #fc9070;\n",
       "  color: #000000;\n",
       "}\n",
       "#T_d0895_row6_col1 {\n",
       "  background-color: #fff5f0;\n",
       "  color: #000000;\n",
       "}\n",
       "</style>\n",
       "<table id=\"T_d0895\">\n",
       "  <thead>\n",
       "    <tr>\n",
       "      <th class=\"blank level0\" >&nbsp;</th>\n",
       "      <th id=\"T_d0895_level0_col0\" class=\"col_heading level0 col0\" >Shark Name</th>\n",
       "      <th id=\"T_d0895_level0_col1\" class=\"col_heading level0 col1\" >Total Deals</th>\n",
       "    </tr>\n",
       "  </thead>\n",
       "  <tbody>\n",
       "    <tr>\n",
       "      <th id=\"T_d0895_level0_row0\" class=\"row_heading level0 row0\" >0</th>\n",
       "      <td id=\"T_d0895_row0_col0\" class=\"data row0 col0\" >Aman Gupta</td>\n",
       "      <td id=\"T_d0895_row0_col1\" class=\"data row0 col1\" >28</td>\n",
       "    </tr>\n",
       "    <tr>\n",
       "      <th id=\"T_d0895_level0_row1\" class=\"row_heading level0 row1\" >1</th>\n",
       "      <td id=\"T_d0895_row1_col0\" class=\"data row1 col0\" >Peyush Bansal</td>\n",
       "      <td id=\"T_d0895_row1_col1\" class=\"data row1 col1\" >27</td>\n",
       "    </tr>\n",
       "    <tr>\n",
       "      <th id=\"T_d0895_level0_row2\" class=\"row_heading level0 row2\" >2</th>\n",
       "      <td id=\"T_d0895_row2_col0\" class=\"data row2 col0\" >Anupam Mittal</td>\n",
       "      <td id=\"T_d0895_row2_col1\" class=\"data row2 col1\" >24</td>\n",
       "    </tr>\n",
       "    <tr>\n",
       "      <th id=\"T_d0895_level0_row3\" class=\"row_heading level0 row3\" >3</th>\n",
       "      <td id=\"T_d0895_row3_col0\" class=\"data row3 col0\" >Namita Thapar</td>\n",
       "      <td id=\"T_d0895_row3_col1\" class=\"data row3 col1\" >22</td>\n",
       "    </tr>\n",
       "    <tr>\n",
       "      <th id=\"T_d0895_level0_row4\" class=\"row_heading level0 row4\" >4</th>\n",
       "      <td id=\"T_d0895_row4_col0\" class=\"data row4 col0\" >Ashneer Grover</td>\n",
       "      <td id=\"T_d0895_row4_col1\" class=\"data row4 col1\" >21</td>\n",
       "    </tr>\n",
       "    <tr>\n",
       "      <th id=\"T_d0895_level0_row5\" class=\"row_heading level0 row5\" >5</th>\n",
       "      <td id=\"T_d0895_row5_col0\" class=\"data row5 col0\" >Vineeta Singh</td>\n",
       "      <td id=\"T_d0895_row5_col1\" class=\"data row5 col1\" >15</td>\n",
       "    </tr>\n",
       "    <tr>\n",
       "      <th id=\"T_d0895_level0_row6\" class=\"row_heading level0 row6\" >6</th>\n",
       "      <td id=\"T_d0895_row6_col0\" class=\"data row6 col0\" >Ghazal Alagh</td>\n",
       "      <td id=\"T_d0895_row6_col1\" class=\"data row6 col1\" >7</td>\n",
       "    </tr>\n",
       "  </tbody>\n",
       "</table>\n"
      ],
      "text/plain": [
       "<pandas.io.formats.style.Styler at 0x20c1fd35520>"
      ]
     },
     "execution_count": 19,
     "metadata": {},
     "output_type": "execute_result"
    }
   ],
   "source": [
    "a1=df[[ 'aman_deal']][df['aman_deal']>=1]\n",
    "s1=len(a1)\n",
    "a2=df[['peyush_deal']][df['peyush_deal']>=1]\n",
    "s2=len(a2)\n",
    "a3=df[['namita_deal']][df[ 'namita_deal']>=1]\n",
    "s3=len(a3)\n",
    "a4=df[['ashneer_deal']][df[ 'ashneer_deal']>=1]\n",
    "s4=len(a4)\n",
    "a5=df[['ghazal_deal']][df['ghazal_deal' ]>=1]\n",
    "s5=len(a5)\n",
    "a6=df[['vineeta_deal']][df['vineeta_deal' ]>=1]\n",
    "s6=len(a6)\n",
    "a7=df[['anupam_deal']][df['anupam_deal']>=1]\n",
    "s7=len(a7)\n",
    "name={'Shark Name':['Aman Gupta','Peyush Bansal','Namita Thapar','Ashneer Grover','Ghazal Alagh','Anupam Mittal','Vineeta Singh'],'Total Deals':[s1,s2,s3,s4,s5,s7,s6]}\n",
    "nm=pd.DataFrame(name)\n",
    "f=nm.sort_values(by='Total Deals',ascending=False)\n",
    "f1=f.reset_index(drop=True)\n",
    "styler=f1.style\n",
    "styler.background_gradient(cmap='Reds')\n",
    "styler"
   ]
  },
  {
   "cell_type": "markdown",
   "id": "1f7fb555",
   "metadata": {},
   "source": [
    "# 14. The equity percent that each sharks gets"
   ]
  },
  {
   "cell_type": "code",
   "execution_count": 20,
   "id": "6471bb0f",
   "metadata": {},
   "outputs": [
    {
     "data": {
      "image/png": "[encoded data removed]",
      "text/plain": [
       "<Figure size 640x480 with 1 Axes>"
      ]
     },
     "metadata": {},
     "output_type": "display_data"
    }
   ],
   "source": [
    "l = []\n",
    "for i in df.columns[18:25]:\n",
    "    x=df[df[i]==1]\n",
    "    s=x[\"equity_per_shark\"].sum()\n",
    "    l.append(s)\n",
    "l=(sum(l))\n",
    "for i in df.columns[18:19]:\n",
    "    x=df[df[i]==1]\n",
    "    s=x[\"equity_per_shark\"].sum()\n",
    "Ashneer=s*100/l\n",
    "for i in df.columns[19:20]:\n",
    "    x=df[df[i]==1]\n",
    "    s=x[\"equity_per_shark\"].sum()\n",
    "Anupam=s*100/l\n",
    "for i in df.columns[20:21]:\n",
    "    x=df[df[i]==1]\n",
    "    s=x[\"equity_per_shark\"].sum()\n",
    "Aman=s*100/l\n",
    "for i in df.columns[21:22]:\n",
    "    x=df[df[i]==1]\n",
    "    s=x[\"equity_per_shark\"].sum()\n",
    "Namita=s*100/l\n",
    "for i in df.columns[22:23]:\n",
    "    x=df[df[i]==1]\n",
    "    s=x[\"equity_per_shark\"].sum()\n",
    "Vineeta=s*100/l\n",
    "for i in df.columns[23:24]:\n",
    "    x=df[df[i]==1]\n",
    "    s=x[\"equity_per_shark\"].sum()\n",
    "Peyush=s*100/l\n",
    "for i in df.columns[24:25]:\n",
    "    x=df[df[i]==1]\n",
    "    s=x[\"equity_per_shark\"].sum()\n",
    "Ghazal=s*100/l\n",
    "data = {'Shark Name': ['Ashneer Grover', 'Anupam Mittal', 'Aman Gupta', 'Namita Thapar', 'Vineeta Singh', 'Peyush Bansal', 'Ghazal Alagh'],'Equity Percent': [Ashneer, Anupam, Aman, Namita, Vineeta, Peyush, Ghazal]}\n",
    "total = pd.DataFrame(data)\n",
    "plt.pie(total['Equity Percent'], labels=total['Shark Name'],autopct='%1.1f%%')\n",
    "plt.title('Equity Percentages of Sharks')\n",
    "plt.show()"
   ]
  },
  {
   "cell_type": "markdown",
   "id": "554aecb1",
   "metadata": {},
   "source": [
    "# 15. The total number of amount invested in this show"
   ]
  },
  {
   "cell_type": "code",
   "execution_count": 20,
   "id": "c4466f87",
   "metadata": {},
   "outputs": [
    {
     "data": {
      "text/plain": [
       "deal_amount    3742.00106\n",
       "dtype: float64"
      ]
     },
     "execution_count": 20,
     "metadata": {},
     "output_type": "execute_result"
    }
   ],
   "source": [
    "a=df[['deal_amount']].sum()\n",
    "a"
   ]
  },
  {
   "cell_type": "code",
   "execution_count": null,
   "id": "31ec342b",
   "metadata": {},
   "outputs": [],
   "source": []
  }
 ],
 "metadata": {
  "kernelspec": {
   "display_name": "Python 3 (ipykernel)",
   "language": "python",
   "name": "python3"
  },
  "language_info": {
   "codemirror_mode": {
    "name": "ipython",
    "version": 3
   },
   "file_extension": ".py",
   "mimetype": "text/x-python",
   "name": "python",
   "nbconvert_exporter": "python",
   "pygments_lexer": "ipython3",
   "version": "3.9.13"
  }
 },
 "nbformat": 4,
 "nbformat_minor": 5
}
